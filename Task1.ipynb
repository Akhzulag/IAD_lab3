{
 "cells": [
  {
   "cell_type": "code",
   "execution_count": 8,
   "metadata": {},
   "outputs": [
    {
     "name": "stdout",
     "output_type": "stream",
     "text": [
      "        HeartDisease    BMI  Smoking  ...  Asthma  KidneyDisease  SkinCancer\n",
      "0                  0  16.60        1  ...       1              0           1\n",
      "1                  0  20.34        0  ...       0              0           0\n",
      "2                  0  26.58        1  ...       1              0           0\n",
      "3                  0  24.21        0  ...       0              0           1\n",
      "4                  0  23.71        0  ...       0              0           0\n",
      "...              ...    ...      ...  ...     ...            ...         ...\n",
      "319790             1  27.41        1  ...       1              0           0\n",
      "319791             0  29.84        1  ...       1              0           0\n",
      "319792             0  24.24        0  ...       0              0           0\n",
      "319793             0  32.81        0  ...       0              0           0\n",
      "319794             0  46.56        0  ...       0              0           0\n",
      "\n",
      "[319795 rows x 18 columns]\n"
     ]
    }
   ],
   "source": [
    "import pandas as pd\n",
    "import numpy as np\n",
    "import matplotlib.pyplot as plt\n",
    "import seaborn as sns\n",
    "from sklearn.preprocessing import StandardScaler\n",
    "from sklearn.model_selection import train_test_split\n",
    "from tensorflow.keras.models import Sequential\n",
    "from tensorflow.keras.layers import Dense, BatchNormalization, Dropout\n",
    "\n",
    "\n",
    "\n",
    "df_heart = pd.read_csv('heart.csv')\n",
    "\n",
    "genHealth = [ 'Poor',  'Fair', 'Good', 'Very good', 'Excellent']\n",
    "sex = ['Male','Female']\n",
    "ageCategory =  {'18-24',  '25-29','30-34', '35-39', '40-44', '45-49', '50-54','55-59', '60-64','65-69', '70-74', '75-79',  '80 or older'}\n",
    "race =  ['White', 'Hispanic', 'Other', 'American Indian/Alaskan Native', 'Black', 'Asian']\n",
    "diabetic =  ['No', 'No, borderline diabetes',  'Yes',  'Yes (during pregnancy)']\n",
    "bolean = ['No','Yes']\n",
    "\n",
    "binary_columns = ['HeartDisease', 'Smoking', 'AlcoholDrinking', 'Stroke', \n",
    "                  'DiffWalking', 'PhysicalActivity', 'Asthma', \n",
    "                  'KidneyDisease', 'SkinCancer']\n",
    "\n",
    "df_heart[binary_columns] = df_heart[binary_columns].apply(lambda x: x.map({'Yes': 1, 'No': 0}))\n",
    "\n",
    "\n",
    "df_heart['GenHealth'] = pd.Categorical(df_heart['GenHealth'], categories=genHealth, ordered=True)\n",
    "df_heart['GenHealth'] = df_heart['GenHealth'].cat.codes\n",
    "\n",
    "\n",
    "df_heart['Sex'] = pd.Categorical(df_heart['Sex'], categories=sex, ordered=True)\n",
    "df_heart['Sex'] = df_heart['Sex'].cat.codes\n",
    "\n",
    "df_heart['AgeCategory'] = pd.Categorical(df_heart['AgeCategory'], categories=ageCategory, ordered=True)\n",
    "df_heart['AgeCategory'] = df_heart['AgeCategory'].cat.codes\n",
    "\n",
    "df_heart['Race'] = pd.Categorical(df_heart['Race'], categories=race, ordered=True)\n",
    "df_heart['Race'] = df_heart['Race'].cat.codes\n",
    "\n",
    "df_heart['Diabetic'] = pd.Categorical(df_heart['Diabetic'], categories=diabetic, ordered=True)\n",
    "df_heart['Diabetic'] = df_heart['Diabetic'].cat.codes\n",
    "\n",
    "\n",
    "print(df_heart)"
   ]
  },
  {
   "cell_type": "markdown",
   "metadata": {},
   "source": [
    "#### Відбираємо дані для кластеризації та проводимо нормалізацію"
   ]
  },
  {
   "cell_type": "code",
   "execution_count": 9,
   "metadata": {},
   "outputs": [],
   "source": [
    "X = df_heart.drop('SkinCancer', axis=1)\n",
    "y = df_heart['SkinCancer']\n",
    "\n",
    "X_train, X_test, y_train, y_test = train_test_split(X, y, test_size=0.2)\n",
    "from sklearn.preprocessing import MinMaxScaler\n",
    "\n",
    "scaler = StandardScaler()\n",
    "X_train = scaler.fit_transform(X_train)\n",
    "X_test = scaler.transform(X_test)\n"
   ]
  },
  {
   "cell_type": "code",
   "execution_count": 10,
   "metadata": {},
   "outputs": [
    {
     "name": "stdout",
     "output_type": "stream",
     "text": [
      "17\n"
     ]
    },
    {
     "name": "stderr",
     "output_type": "stream",
     "text": [
      "/Users/akh/Library/Python/3.9/lib/python/site-packages/keras/src/layers/core/dense.py:87: UserWarning: Do not pass an `input_shape`/`input_dim` argument to a layer. When using Sequential models, prefer using an `Input(shape)` object as the first layer in the model instead.\n",
      "  super().__init__(activity_regularizer=activity_regularizer, **kwargs)\n"
     ]
    },
    {
     "data": {
      "text/html": [
       "<pre style=\"white-space:pre;overflow-x:auto;line-height:normal;font-family:Menlo,'DejaVu Sans Mono',consolas,'Courier New',monospace\"><span style=\"font-weight: bold\">Model: \"sequential\"</span>\n",
       "</pre>\n"
      ],
      "text/plain": [
       "\u001b[1mModel: \"sequential\"\u001b[0m\n"
      ]
     },
     "metadata": {},
     "output_type": "display_data"
    },
    {
     "data": {
      "text/html": [
       "<pre style=\"white-space:pre;overflow-x:auto;line-height:normal;font-family:Menlo,'DejaVu Sans Mono',consolas,'Courier New',monospace\">┏━━━━━━━━━━━━━━━━━━━━━━━━━━━━━━━━━┳━━━━━━━━━━━━━━━━━━━━━━━━┳━━━━━━━━━━━━━━━┓\n",
       "┃<span style=\"font-weight: bold\"> Layer (type)                    </span>┃<span style=\"font-weight: bold\"> Output Shape           </span>┃<span style=\"font-weight: bold\">       Param # </span>┃\n",
       "┡━━━━━━━━━━━━━━━━━━━━━━━━━━━━━━━━━╇━━━━━━━━━━━━━━━━━━━━━━━━╇━━━━━━━━━━━━━━━┩\n",
       "│ dense (<span style=\"color: #0087ff; text-decoration-color: #0087ff\">Dense</span>)                   │ (<span style=\"color: #00d7ff; text-decoration-color: #00d7ff\">None</span>, <span style=\"color: #00af00; text-decoration-color: #00af00\">256</span>)            │         <span style=\"color: #00af00; text-decoration-color: #00af00\">4,608</span> │\n",
       "├─────────────────────────────────┼────────────────────────┼───────────────┤\n",
       "│ batch_normalization             │ (<span style=\"color: #00d7ff; text-decoration-color: #00d7ff\">None</span>, <span style=\"color: #00af00; text-decoration-color: #00af00\">256</span>)            │         <span style=\"color: #00af00; text-decoration-color: #00af00\">1,024</span> │\n",
       "│ (<span style=\"color: #0087ff; text-decoration-color: #0087ff\">BatchNormalization</span>)            │                        │               │\n",
       "├─────────────────────────────────┼────────────────────────┼───────────────┤\n",
       "│ dropout (<span style=\"color: #0087ff; text-decoration-color: #0087ff\">Dropout</span>)               │ (<span style=\"color: #00d7ff; text-decoration-color: #00d7ff\">None</span>, <span style=\"color: #00af00; text-decoration-color: #00af00\">256</span>)            │             <span style=\"color: #00af00; text-decoration-color: #00af00\">0</span> │\n",
       "├─────────────────────────────────┼────────────────────────┼───────────────┤\n",
       "│ dense_1 (<span style=\"color: #0087ff; text-decoration-color: #0087ff\">Dense</span>)                 │ (<span style=\"color: #00d7ff; text-decoration-color: #00d7ff\">None</span>, <span style=\"color: #00af00; text-decoration-color: #00af00\">256</span>)            │        <span style=\"color: #00af00; text-decoration-color: #00af00\">65,792</span> │\n",
       "├─────────────────────────────────┼────────────────────────┼───────────────┤\n",
       "│ batch_normalization_1           │ (<span style=\"color: #00d7ff; text-decoration-color: #00d7ff\">None</span>, <span style=\"color: #00af00; text-decoration-color: #00af00\">256</span>)            │         <span style=\"color: #00af00; text-decoration-color: #00af00\">1,024</span> │\n",
       "│ (<span style=\"color: #0087ff; text-decoration-color: #0087ff\">BatchNormalization</span>)            │                        │               │\n",
       "├─────────────────────────────────┼────────────────────────┼───────────────┤\n",
       "│ dropout_1 (<span style=\"color: #0087ff; text-decoration-color: #0087ff\">Dropout</span>)             │ (<span style=\"color: #00d7ff; text-decoration-color: #00d7ff\">None</span>, <span style=\"color: #00af00; text-decoration-color: #00af00\">256</span>)            │             <span style=\"color: #00af00; text-decoration-color: #00af00\">0</span> │\n",
       "├─────────────────────────────────┼────────────────────────┼───────────────┤\n",
       "│ dense_2 (<span style=\"color: #0087ff; text-decoration-color: #0087ff\">Dense</span>)                 │ (<span style=\"color: #00d7ff; text-decoration-color: #00d7ff\">None</span>, <span style=\"color: #00af00; text-decoration-color: #00af00\">1</span>)              │           <span style=\"color: #00af00; text-decoration-color: #00af00\">257</span> │\n",
       "└─────────────────────────────────┴────────────────────────┴───────────────┘\n",
       "</pre>\n"
      ],
      "text/plain": [
       "┏━━━━━━━━━━━━━━━━━━━━━━━━━━━━━━━━━┳━━━━━━━━━━━━━━━━━━━━━━━━┳━━━━━━━━━━━━━━━┓\n",
       "┃\u001b[1m \u001b[0m\u001b[1mLayer (type)                   \u001b[0m\u001b[1m \u001b[0m┃\u001b[1m \u001b[0m\u001b[1mOutput Shape          \u001b[0m\u001b[1m \u001b[0m┃\u001b[1m \u001b[0m\u001b[1m      Param #\u001b[0m\u001b[1m \u001b[0m┃\n",
       "┡━━━━━━━━━━━━━━━━━━━━━━━━━━━━━━━━━╇━━━━━━━━━━━━━━━━━━━━━━━━╇━━━━━━━━━━━━━━━┩\n",
       "│ dense (\u001b[38;5;33mDense\u001b[0m)                   │ (\u001b[38;5;45mNone\u001b[0m, \u001b[38;5;34m256\u001b[0m)            │         \u001b[38;5;34m4,608\u001b[0m │\n",
       "├─────────────────────────────────┼────────────────────────┼───────────────┤\n",
       "│ batch_normalization             │ (\u001b[38;5;45mNone\u001b[0m, \u001b[38;5;34m256\u001b[0m)            │         \u001b[38;5;34m1,024\u001b[0m │\n",
       "│ (\u001b[38;5;33mBatchNormalization\u001b[0m)            │                        │               │\n",
       "├─────────────────────────────────┼────────────────────────┼───────────────┤\n",
       "│ dropout (\u001b[38;5;33mDropout\u001b[0m)               │ (\u001b[38;5;45mNone\u001b[0m, \u001b[38;5;34m256\u001b[0m)            │             \u001b[38;5;34m0\u001b[0m │\n",
       "├─────────────────────────────────┼────────────────────────┼───────────────┤\n",
       "│ dense_1 (\u001b[38;5;33mDense\u001b[0m)                 │ (\u001b[38;5;45mNone\u001b[0m, \u001b[38;5;34m256\u001b[0m)            │        \u001b[38;5;34m65,792\u001b[0m │\n",
       "├─────────────────────────────────┼────────────────────────┼───────────────┤\n",
       "│ batch_normalization_1           │ (\u001b[38;5;45mNone\u001b[0m, \u001b[38;5;34m256\u001b[0m)            │         \u001b[38;5;34m1,024\u001b[0m │\n",
       "│ (\u001b[38;5;33mBatchNormalization\u001b[0m)            │                        │               │\n",
       "├─────────────────────────────────┼────────────────────────┼───────────────┤\n",
       "│ dropout_1 (\u001b[38;5;33mDropout\u001b[0m)             │ (\u001b[38;5;45mNone\u001b[0m, \u001b[38;5;34m256\u001b[0m)            │             \u001b[38;5;34m0\u001b[0m │\n",
       "├─────────────────────────────────┼────────────────────────┼───────────────┤\n",
       "│ dense_2 (\u001b[38;5;33mDense\u001b[0m)                 │ (\u001b[38;5;45mNone\u001b[0m, \u001b[38;5;34m1\u001b[0m)              │           \u001b[38;5;34m257\u001b[0m │\n",
       "└─────────────────────────────────┴────────────────────────┴───────────────┘\n"
      ]
     },
     "metadata": {},
     "output_type": "display_data"
    },
    {
     "data": {
      "text/html": [
       "<pre style=\"white-space:pre;overflow-x:auto;line-height:normal;font-family:Menlo,'DejaVu Sans Mono',consolas,'Courier New',monospace\"><span style=\"font-weight: bold\"> Total params: </span><span style=\"color: #00af00; text-decoration-color: #00af00\">72,705</span> (284.00 KB)\n",
       "</pre>\n"
      ],
      "text/plain": [
       "\u001b[1m Total params: \u001b[0m\u001b[38;5;34m72,705\u001b[0m (284.00 KB)\n"
      ]
     },
     "metadata": {},
     "output_type": "display_data"
    },
    {
     "data": {
      "text/html": [
       "<pre style=\"white-space:pre;overflow-x:auto;line-height:normal;font-family:Menlo,'DejaVu Sans Mono',consolas,'Courier New',monospace\"><span style=\"font-weight: bold\"> Trainable params: </span><span style=\"color: #00af00; text-decoration-color: #00af00\">71,681</span> (280.00 KB)\n",
       "</pre>\n"
      ],
      "text/plain": [
       "\u001b[1m Trainable params: \u001b[0m\u001b[38;5;34m71,681\u001b[0m (280.00 KB)\n"
      ]
     },
     "metadata": {},
     "output_type": "display_data"
    },
    {
     "data": {
      "text/html": [
       "<pre style=\"white-space:pre;overflow-x:auto;line-height:normal;font-family:Menlo,'DejaVu Sans Mono',consolas,'Courier New',monospace\"><span style=\"font-weight: bold\"> Non-trainable params: </span><span style=\"color: #00af00; text-decoration-color: #00af00\">1,024</span> (4.00 KB)\n",
       "</pre>\n"
      ],
      "text/plain": [
       "\u001b[1m Non-trainable params: \u001b[0m\u001b[38;5;34m1,024\u001b[0m (4.00 KB)\n"
      ]
     },
     "metadata": {},
     "output_type": "display_data"
    }
   ],
   "source": [
    "print(X_train.shape[1])\n",
    "\n",
    "model = Sequential([\n",
    "    Dense(256, activation=\"relu\", input_shape=(X_train.shape[-1], )),\n",
    "    BatchNormalization(),\n",
    "    Dropout(0.5),\n",
    "\n",
    "    Dense(256, activation=\"relu\"),\n",
    "    BatchNormalization(),\n",
    "    Dropout(0.5),\n",
    "\n",
    "    Dense(1, activation=\"sigmoid\"),\n",
    "    ])\n",
    "model.summary()"
   ]
  },
  {
   "cell_type": "code",
   "execution_count": 11,
   "metadata": {},
   "outputs": [
    {
     "name": "stdout",
     "output_type": "stream",
     "text": [
      "Epoch 1/30\n",
      "3998/3998 - 8s - 2ms/step - accuracy: 0.8970 - loss: 0.3048 - val_accuracy: 0.9056 - val_loss: 0.2740\n",
      "Epoch 2/30\n",
      "3998/3998 - 9s - 2ms/step - accuracy: 0.9070 - loss: 0.2762 - val_accuracy: 0.9056 - val_loss: 0.2734\n",
      "Epoch 3/30\n",
      "3998/3998 - 9s - 2ms/step - accuracy: 0.9070 - loss: 0.2741 - val_accuracy: 0.9056 - val_loss: 0.2725\n",
      "Epoch 4/30\n",
      "3998/3998 - 9s - 2ms/step - accuracy: 0.9070 - loss: 0.2725 - val_accuracy: 0.9056 - val_loss: 0.2714\n",
      "Epoch 5/30\n",
      "3998/3998 - 9s - 2ms/step - accuracy: 0.9071 - loss: 0.2718 - val_accuracy: 0.9056 - val_loss: 0.2709\n",
      "Epoch 6/30\n",
      "3998/3998 - 10s - 2ms/step - accuracy: 0.9070 - loss: 0.2708 - val_accuracy: 0.9056 - val_loss: 0.2697\n",
      "Epoch 7/30\n",
      "3998/3998 - 9s - 2ms/step - accuracy: 0.9071 - loss: 0.2702 - val_accuracy: 0.9056 - val_loss: 0.2688\n",
      "Epoch 8/30\n",
      "3998/3998 - 9s - 2ms/step - accuracy: 0.9070 - loss: 0.2694 - val_accuracy: 0.9056 - val_loss: 0.2684\n",
      "Epoch 9/30\n",
      "3998/3998 - 9s - 2ms/step - accuracy: 0.9070 - loss: 0.2688 - val_accuracy: 0.9056 - val_loss: 0.2684\n",
      "Epoch 10/30\n",
      "3998/3998 - 9s - 2ms/step - accuracy: 0.9070 - loss: 0.2686 - val_accuracy: 0.9056 - val_loss: 0.2668\n",
      "Epoch 11/30\n",
      "3998/3998 - 9s - 2ms/step - accuracy: 0.9070 - loss: 0.2680 - val_accuracy: 0.9056 - val_loss: 0.2662\n",
      "Epoch 12/30\n",
      "3998/3998 - 9s - 2ms/step - accuracy: 0.9070 - loss: 0.2677 - val_accuracy: 0.9056 - val_loss: 0.2663\n",
      "Epoch 13/30\n",
      "3998/3998 - 9s - 2ms/step - accuracy: 0.9070 - loss: 0.2673 - val_accuracy: 0.9056 - val_loss: 0.2652\n",
      "Epoch 14/30\n",
      "3998/3998 - 8s - 2ms/step - accuracy: 0.9069 - loss: 0.2669 - val_accuracy: 0.9056 - val_loss: 0.2648\n",
      "Epoch 15/30\n",
      "3998/3998 - 11s - 3ms/step - accuracy: 0.9070 - loss: 0.2663 - val_accuracy: 0.9056 - val_loss: 0.2647\n",
      "Epoch 16/30\n",
      "3998/3998 - 9s - 2ms/step - accuracy: 0.9069 - loss: 0.2660 - val_accuracy: 0.9056 - val_loss: 0.2641\n",
      "Epoch 17/30\n",
      "3998/3998 - 10s - 2ms/step - accuracy: 0.9070 - loss: 0.2661 - val_accuracy: 0.9056 - val_loss: 0.2640\n",
      "Epoch 18/30\n",
      "3998/3998 - 9s - 2ms/step - accuracy: 0.9069 - loss: 0.2657 - val_accuracy: 0.9056 - val_loss: 0.2640\n",
      "Epoch 19/30\n",
      "3998/3998 - 9s - 2ms/step - accuracy: 0.9069 - loss: 0.2654 - val_accuracy: 0.9056 - val_loss: 0.2640\n",
      "Epoch 20/30\n",
      "3998/3998 - 9s - 2ms/step - accuracy: 0.9069 - loss: 0.2654 - val_accuracy: 0.9056 - val_loss: 0.2645\n",
      "Epoch 21/30\n",
      "3998/3998 - 7s - 2ms/step - accuracy: 0.9070 - loss: 0.2651 - val_accuracy: 0.9056 - val_loss: 0.2634\n",
      "Epoch 22/30\n",
      "3998/3998 - 9s - 2ms/step - accuracy: 0.9070 - loss: 0.2651 - val_accuracy: 0.9056 - val_loss: 0.2632\n",
      "Epoch 23/30\n",
      "3998/3998 - 10s - 2ms/step - accuracy: 0.9070 - loss: 0.2648 - val_accuracy: 0.9056 - val_loss: 0.2630\n",
      "Epoch 24/30\n",
      "3998/3998 - 10s - 3ms/step - accuracy: 0.9069 - loss: 0.2645 - val_accuracy: 0.9056 - val_loss: 0.2635\n",
      "Epoch 25/30\n",
      "3998/3998 - 11s - 3ms/step - accuracy: 0.9068 - loss: 0.2645 - val_accuracy: 0.9056 - val_loss: 0.2635\n",
      "Epoch 26/30\n",
      "3998/3998 - 9s - 2ms/step - accuracy: 0.9070 - loss: 0.2648 - val_accuracy: 0.9056 - val_loss: 0.2629\n",
      "Epoch 27/30\n",
      "3998/3998 - 9s - 2ms/step - accuracy: 0.9069 - loss: 0.2644 - val_accuracy: 0.9055 - val_loss: 0.2631\n",
      "Epoch 28/30\n",
      "3998/3998 - 11s - 3ms/step - accuracy: 0.9070 - loss: 0.2642 - val_accuracy: 0.9056 - val_loss: 0.2623\n",
      "Epoch 29/30\n",
      "3998/3998 - 9s - 2ms/step - accuracy: 0.9068 - loss: 0.2640 - val_accuracy: 0.9056 - val_loss: 0.2624\n",
      "Epoch 30/30\n",
      "3998/3998 - 9s - 2ms/step - accuracy: 0.9070 - loss: 0.2642 - val_accuracy: 0.9056 - val_loss: 0.2628\n"
     ]
    },
    {
     "data": {
      "text/plain": [
       "<keras.src.callbacks.history.History at 0x1348b9ee0>"
      ]
     },
     "execution_count": 11,
     "metadata": {},
     "output_type": "execute_result"
    }
   ],
   "source": [
    "\n",
    "model.compile(\n",
    "    optimizer='adam', \n",
    "    loss=\"binary_crossentropy\", \n",
    "    metrics=[\"accuracy\"]\n",
    ")\n",
    "\n",
    "model.fit(\n",
    "    X_train, \n",
    "    y_train,\n",
    "    validation_data=(X_test, y_test),\n",
    "    verbose=2,\n",
    "    epochs=30, \n",
    "    batch_size=64\n",
    ")\n"
   ]
  },
  {
   "cell_type": "code",
   "execution_count": 12,
   "metadata": {},
   "outputs": [
    {
     "name": "stdout",
     "output_type": "stream",
     "text": [
      "Test loss: 0.2628449499607086\n",
      "Test accuracy: 0.9055801630020142\n"
     ]
    }
   ],
   "source": [
    "score = model.evaluate(X_test,y_test, verbose=0) \n",
    "\n",
    "print('Test loss:', score[0]) \n",
    "print('Test accuracy:', score[1])"
   ]
  }
 ],
 "metadata": {
  "kernelspec": {
   "display_name": "Python 3",
   "language": "python",
   "name": "python3"
  },
  "language_info": {
   "codemirror_mode": {
    "name": "ipython",
    "version": 3
   },
   "file_extension": ".py",
   "mimetype": "text/x-python",
   "name": "python",
   "nbconvert_exporter": "python",
   "pygments_lexer": "ipython3",
   "version": "3.9.6"
  }
 },
 "nbformat": 4,
 "nbformat_minor": 2
}
